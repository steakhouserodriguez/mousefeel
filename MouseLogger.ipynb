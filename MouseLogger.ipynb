{
 "metadata": {
  "name": "",
  "signature": "sha256:74b827257f36bd105b6915587a4cad4703de36fa05384404b5b24ddea3518d21"
 },
 "nbformat": 3,
 "nbformat_minor": 0,
 "worksheets": [
  {
   "cells": [
    {
     "cell_type": "code",
     "collapsed": false,
     "input": [
      "# Cross-notebook include shim\n",
      "with open(\"nbinclude.ipynb\") as nbinclude_f: # don't rename nbinclude_f\n",
      "    import IPython.nbformat.current\n",
      "    get_ipython().run_cell(IPython.nbformat.current.read(nbinclude_f, 'json').worksheets[0].cells[0].input)"
     ],
     "language": "python",
     "metadata": {},
     "outputs": [],
     "prompt_number": 1
    },
    {
     "cell_type": "code",
     "collapsed": false,
     "input": [
      "# mousepos.py (linux only)\n",
      "\"\"\"module mousepos\n",
      "\"\"\"\n",
      "# uses the package python-xlib\n",
      "# from http://snipplr.com/view/19188/mouseposition-on-linux-via-xlib/\n",
      "\n",
      "from Xlib import display\n",
      "\n",
      "def mousepos():\n",
      "    \"\"\"mousepos() --> (x, y) get the mouse coordinates on the screen (linux, Xlib).\"\"\"\n",
      "    data = display.Display().screen().root.query_pointer()._data\n",
      "    return data[\"root_x\"], data[\"root_y\"]"
     ],
     "language": "python",
     "metadata": {},
     "outputs": [],
     "prompt_number": 2
    },
    {
     "cell_type": "code",
     "collapsed": false,
     "input": [
      "display.Display().screen().root.query_pointer()._data"
     ],
     "language": "python",
     "metadata": {},
     "outputs": [
      {
       "output_type": "stream",
       "stream": "stdout",
       "text": [
        "Xlib.protocol.request.QueryExtension\n"
       ]
      },
      {
       "metadata": {},
       "output_type": "pyout",
       "prompt_number": 57,
       "text": [
        "{'child': <Xlib.display.Window 0x022000a2>,\n",
        " 'mask': 1,\n",
        " 'root': <Xlib.display.Window 0x0000008e>,\n",
        " 'root_x': 1162,\n",
        " 'root_y': 302,\n",
        " 'same_screen': 1,\n",
        " 'sequence_number': 9,\n",
        " 'win_x': 1162,\n",
        " 'win_y': 302}"
       ]
      }
     ],
     "prompt_number": 57
    },
    {
     "cell_type": "code",
     "collapsed": false,
     "input": [
      "display = Xlib.display.Display(':0')\n",
      "root = display.screen().root\n",
      "root.change_attributes(event_mask=\n",
      "    Xlib.X.ButtonPressMask | Xlib.X.ButtonReleaseMask)\n",
      "\n",
      "while True:\n",
      "    event = root.display.next_event()\n",
      "    print eventA"
     ],
     "language": "python",
     "metadata": {},
     "outputs": [
      {
       "output_type": "stream",
       "stream": "stdout",
       "text": [
        "Xlib.protocol.request.QueryExtension\n"
       ]
      },
      {
       "output_type": "stream",
       "stream": "stderr",
       "text": [
        "X protocol error:\n",
        "<class 'Xlib.error.BadAccess'>: code = 10, resource_id = 142, sequence_number = 9, major_opcode = 2, minor_opcode = 0\n"
       ]
      },
      {
       "ename": "KeyboardInterrupt",
       "evalue": "",
       "output_type": "pyerr",
       "traceback": [
        "\u001b[1;31m---------------------------------------------------------------------------\u001b[0m\n\u001b[1;31mKeyboardInterrupt\u001b[0m                         Traceback (most recent call last)",
        "\u001b[1;32m<ipython-input-59-4ede88d10956>\u001b[0m in \u001b[0;36m<module>\u001b[1;34m()\u001b[0m\n\u001b[0;32m      5\u001b[0m \u001b[1;33m\u001b[0m\u001b[0m\n\u001b[0;32m      6\u001b[0m \u001b[1;32mwhile\u001b[0m \u001b[0mTrue\u001b[0m\u001b[1;33m:\u001b[0m\u001b[1;33m\u001b[0m\u001b[0m\n\u001b[1;32m----> 7\u001b[1;33m     \u001b[0mevent\u001b[0m \u001b[1;33m=\u001b[0m \u001b[0mroot\u001b[0m\u001b[1;33m.\u001b[0m\u001b[0mdisplay\u001b[0m\u001b[1;33m.\u001b[0m\u001b[0mnext_event\u001b[0m\u001b[1;33m(\u001b[0m\u001b[1;33m)\u001b[0m\u001b[1;33m\u001b[0m\u001b[0m\n\u001b[0m\u001b[0;32m      8\u001b[0m     \u001b[1;32mprint\u001b[0m \u001b[0meventA\u001b[0m\u001b[1;33m\u001b[0m\u001b[0m\n",
        "\u001b[1;32m/usr/lib/pymodules/python2.7/Xlib/protocol/display.pyc\u001b[0m in \u001b[0;36mnext_event\u001b[1;34m(self)\u001b[0m\n\u001b[0;32m    169\u001b[0m             \u001b[1;31m# Call send_and_recv, which will return when\u001b[0m\u001b[1;33m\u001b[0m\u001b[1;33m\u001b[0m\u001b[0m\n\u001b[0;32m    170\u001b[0m             \u001b[1;31m# something has occured\u001b[0m\u001b[1;33m\u001b[0m\u001b[1;33m\u001b[0m\u001b[0m\n\u001b[1;32m--> 171\u001b[1;33m             \u001b[0mself\u001b[0m\u001b[1;33m.\u001b[0m\u001b[0msend_and_recv\u001b[0m\u001b[1;33m(\u001b[0m\u001b[0mevent\u001b[0m \u001b[1;33m=\u001b[0m \u001b[1;36m1\u001b[0m\u001b[1;33m)\u001b[0m\u001b[1;33m\u001b[0m\u001b[0m\n\u001b[0m\u001b[0;32m    172\u001b[0m \u001b[1;33m\u001b[0m\u001b[0m\n\u001b[0;32m    173\u001b[0m             \u001b[1;31m# Before looping around, lock the event queue against\u001b[0m\u001b[1;33m\u001b[0m\u001b[1;33m\u001b[0m\u001b[0m\n",
        "\u001b[1;32m/usr/lib/pymodules/python2.7/Xlib/protocol/display.pyc\u001b[0m in \u001b[0;36msend_and_recv\u001b[1;34m(self, flush, event, request, recv)\u001b[0m\n\u001b[0;32m    500\u001b[0m                     \u001b[0mtimeout\u001b[0m \u001b[1;33m=\u001b[0m \u001b[0mNone\u001b[0m\u001b[1;33m\u001b[0m\u001b[0m\n\u001b[0;32m    501\u001b[0m \u001b[1;33m\u001b[0m\u001b[0m\n\u001b[1;32m--> 502\u001b[1;33m                 \u001b[0mrs\u001b[0m\u001b[1;33m,\u001b[0m \u001b[0mws\u001b[0m\u001b[1;33m,\u001b[0m \u001b[0mes\u001b[0m \u001b[1;33m=\u001b[0m \u001b[0mselect\u001b[0m\u001b[1;33m.\u001b[0m\u001b[0mselect\u001b[0m\u001b[1;33m(\u001b[0m\u001b[1;33m[\u001b[0m\u001b[0mself\u001b[0m\u001b[1;33m.\u001b[0m\u001b[0msocket\u001b[0m\u001b[1;33m]\u001b[0m\u001b[1;33m,\u001b[0m \u001b[0mwriteset\u001b[0m\u001b[1;33m,\u001b[0m \u001b[1;33m[\u001b[0m\u001b[1;33m]\u001b[0m\u001b[1;33m,\u001b[0m \u001b[0mtimeout\u001b[0m\u001b[1;33m)\u001b[0m\u001b[1;33m\u001b[0m\u001b[0m\n\u001b[0m\u001b[0;32m    503\u001b[0m \u001b[1;33m\u001b[0m\u001b[0m\n\u001b[0;32m    504\u001b[0m             \u001b[1;31m# Ignore errors caused by a signal recieved while blocking.\u001b[0m\u001b[1;33m\u001b[0m\u001b[1;33m\u001b[0m\u001b[0m\n",
        "\u001b[1;31mKeyboardInterrupt\u001b[0m: "
       ]
      }
     ],
     "prompt_number": 59
    },
    {
     "cell_type": "code",
     "collapsed": false,
     "input": [
      "from Xlib.display import Display\n",
      "from Xlib import X\n",
      "\n",
      "display = Display(':0')\n",
      "root = display.screen().root\n",
      "\n",
      "root.grab_pointer(python xlib capture mouse clicksTrue, X.ButtonPressMask | X.ButtonReleaseMask, X.GrabModeAsync, X.GrabModeAsync, 0, 0, X.CurrentTime)"
     ],
     "language": "python",
     "metadata": {},
     "outputs": [
      {
       "output_type": "stream",
       "stream": "stdout",
       "text": [
        "Xlib.protocol.request.QueryExtension\n"
       ]
      },
      {
       "metadata": {},
       "output_type": "pyout",
       "prompt_number": 1,
       "text": [
        "0"
       ]
      }
     ],
     "prompt_number": 1
    },
    {
     "cell_type": "code",
     "collapsed": false,
     "input": [
      "root.grab_pointer?"
     ],
     "language": "python",
     "metadata": {},
     "outputs": [],
     "prompt_number": 2
    },
    {
     "cell_type": "code",
     "collapsed": false,
     "input": [
      "while True:\n",
      "    print \"Event:\"\n",
      "    print display.next_event()"
     ],
     "language": "python",
     "metadata": {},
     "outputs": [
      {
       "output_type": "stream",
       "stream": "stdout",
       "text": [
        "Xlib.protocol.request.QueryExtension\n",
        "Event:\n",
        "Xlib.protocol.event.ButtonPress(event_y = 267, state = 0, type = 4, child = <Xlib.display.Window 0x0220014d>, detail = 1, window = <Xlib.display.Window 0x0000008e>, same_screen = 1, time = 56567464, root_y = 267, root_x = 726, root = <Xlib.display.Window 0x0000008e>, event_x = 726, sequence_number = 9)"
       ]
      },
      {
       "output_type": "stream",
       "stream": "stdout",
       "text": [
        "\n",
        "Event:\n",
        "Xlib.protocol.event.ButtonRelease(event_y = 267, state = 256, type = 5, child = <Xlib.display.Window 0x0220014d>, detail = 1, window = <Xlib.display.Window 0x0000008e>, same_screen = 1, time = 56567542, root_y = 267, root_x = 726, root = <Xlib.display.Window 0x0000008e>, event_x = 726, sequence_number = 9)"
       ]
      },
      {
       "output_type": "stream",
       "stream": "stdout",
       "text": [
        "\n",
        "Event:\n",
        "Xlib.protocol.event.ButtonPress(event_y = 300, state = 0, type = 4, child = <Xlib.display.Window 0x0220014d>, detail = 1, window = <Xlib.display.Window 0x0000008e>, same_screen = 1, time = 56567822, root_y = 300, root_x = 623, root = <Xlib.display.Window 0x0000008e>, event_x = 623, sequence_number = 9)"
       ]
      },
      {
       "output_type": "stream",
       "stream": "stdout",
       "text": [
        "\n",
        "Event:\n",
        "Xlib.protocol.event.ButtonRelease(event_y = 300, state = 256, type = 5, child = <Xlib.display.Window 0x0220014d>, detail = 1, window = <Xlib.display.Window 0x0000008e>, same_screen = 1, time = 56567871, root_y = 300, root_x = 623, root = <Xlib.display.Window 0x0000008e>, event_x = 623, sequence_number = 9)\n",
        "Event:\n",
        "Xlib.protocol.event.ButtonPress(event_y = 300, state = 0, type = 4, child = <Xlib.display.Window 0x0220014d>, detail = 1, window = <Xlib.display.Window 0x0000008e>, same_screen = 1, time = 56567961, root_y = 300, root_x = 623, root = <Xlib.display.Window 0x0000008e>, event_x = 623, sequence_number = 9)"
       ]
      },
      {
       "output_type": "stream",
       "stream": "stdout",
       "text": [
        "\n",
        "Event:\n",
        "Xlib.protocol.event.ButtonRelease(event_y = 300, state = 256, type = 5, child = <Xlib.display.Window 0x0220014d>, detail = 1, window = <Xlib.display.Window 0x0000008e>, same_screen = 1, time = 56568010, root_y = 300, root_x = 623, root = <Xlib.display.Window 0x0000008e>, event_x = 623, sequence_number = 9)\n",
        "Event:\n",
        "Xlib.protocol.event.ButtonPress(event_y = 263, state = 0, type = 4, child = <Xlib.display.Window 0x0220014d>, detail = 1, window = <Xlib.display.Window 0x0000008e>, same_screen = 1, time = 56568537, root_y = 263, root_x = 636, root = <Xlib.display.Window 0x0000008e>, event_x = 636, sequence_number = 9)"
       ]
      },
      {
       "output_type": "stream",
       "stream": "stdout",
       "text": [
        "\n",
        "Event:\n",
        "Xlib.protocol.event.ButtonRelease(event_y = 263, state = 256, type = 5, child = <Xlib.display.Window 0x0220014d>, detail = 1, window = <Xlib.display.Window 0x0000008e>, same_screen = 1, time = 56568615, root_y = 263, root_x = 636, root = <Xlib.display.Window 0x0000008e>, event_x = 636, sequence_number = 9)"
       ]
      },
      {
       "output_type": "stream",
       "stream": "stdout",
       "text": [
        "\n",
        "Event:\n",
        "Xlib.protocol.event.ButtonPress(event_y = 43, state = 0, type = 4, child = <Xlib.display.Window 0x0220014d>, detail = 1, window = <Xlib.display.Window 0x0000008e>, same_screen = 1, time = 56569854, root_y = 43, root_x = 447, root = <Xlib.display.Window 0x0000008e>, event_x = 447, sequence_number = 9)"
       ]
      },
      {
       "output_type": "stream",
       "stream": "stdout",
       "text": [
        "\n",
        "Event:\n",
        "Xlib.protocol.event.ButtonRelease(event_y = 43, state = 256, type = 5, child = <Xlib.display.Window 0x0220014d>, detail = 1, window = <Xlib.display.Window 0x0000008e>, same_screen = 1, time = 56569911, root_y = 43, root_x = 447, root = <Xlib.display.Window 0x0000008e>, event_x = 447, sequence_number = 9)"
       ]
      },
      {
       "output_type": "stream",
       "stream": "stdout",
       "text": [
        "\n",
        "Event:\n",
        "Xlib.protocol.event.ButtonPress(event_y = 43, state = 0, type = 4, child = <Xlib.display.Window 0x0220014d>, detail = 1, window = <Xlib.display.Window 0x0000008e>, same_screen = 1, time = 56570001, root_y = 43, root_x = 447, root = <Xlib.display.Window 0x0000008e>, event_x = 447, sequence_number = 9)"
       ]
      },
      {
       "output_type": "stream",
       "stream": "stdout",
       "text": [
        "\n",
        "Event:\n",
        "Xlib.protocol.event.ButtonRelease(event_y = 43, state = 256, type = 5, child = <Xlib.display.Window 0x0220014d>, detail = 1, window = <Xlib.display.Window 0x0000008e>, same_screen = 1, time = 56570030, root_y = 43, root_x = 447, root = <Xlib.display.Window 0x0000008e>, event_x = 447, sequence_number = 9)\n",
        "Event:\n",
        "Xlib.protocol.event.ButtonPress(event_y = 27, state = 0, type = 4, child = <Xlib.display.Window 0x0220014d>, detail = 1, window = <Xlib.display.Window 0x0000008e>, same_screen = 1, time = 56570358, root_y = 27, root_x = 438, root = <Xlib.display.Window 0x0000008e>, event_x = 438, sequence_number = 9)"
       ]
      },
      {
       "output_type": "stream",
       "stream": "stdout",
       "text": [
        "\n",
        "Event:\n",
        "Xlib.protocol.event.ButtonRelease(event_y = 27, state = 256, type = 5, child = <Xlib.display.Window 0x0220014d>, detail = 1, window = <Xlib.display.Window 0x0000008e>, same_screen = 1, time = 56570398, root_y = 27, root_x = 438, root = <Xlib.display.Window 0x0000008e>, event_x = 438, sequence_number = 9)\n",
        "Event:\n",
        "Xlib.protocol.event.ButtonPress(event_y = 27, state = 0, type = 4, child = <Xlib.display.Window 0x0220014d>, detail = 1, window = <Xlib.display.Window 0x0000008e>, same_screen = 1, time = 56570508, root_y = 27, root_x = 438, root = <Xlib.display.Window 0x0000008e>, event_x = 438, sequence_number = 9)"
       ]
      },
      {
       "output_type": "stream",
       "stream": "stdout",
       "text": [
        "\n",
        "Event:\n",
        "Xlib.protocol.event.ButtonRelease(event_y = 27, state = 256, type = 5, child = <Xlib.display.Window 0x0220014d>, detail = 1, window = <Xlib.display.Window 0x0000008e>, same_screen = 1, time = 56570537, root_y = 27, root_x = 438, root = <Xlib.display.Window 0x0000008e>, event_x = 438, sequence_number = 9)\n",
        "Event:\n",
        "Xlib.protocol.event.ButtonPress(event_y = 27, state = 0, type = 4, child = <Xlib.display.Window 0x0220014d>, detail = 1, window = <Xlib.display.Window 0x0000008e>, same_screen = 1, time = 56570646, root_y = 27, root_x = 438, root = <Xlib.display.Window 0x0000008e>, event_x = 438, sequence_number = 9)"
       ]
      },
      {
       "output_type": "stream",
       "stream": "stdout",
       "text": [
        "\n",
        "Event:\n",
        "Xlib.protocol.event.ButtonRelease(event_y = 27, state = 256, type = 5, child = <Xlib.display.Window 0x0220014d>, detail = 1, window = <Xlib.display.Window 0x0000008e>, same_screen = 1, time = 56570655, root_y = 27, root_x = 438, root = <Xlib.display.Window 0x0000008e>, event_x = 438, sequence_number = 9)\n",
        "Event:\n",
        "Xlib.protocol.event.ButtonPress(event_y = 18, state = 0, type = 4, child = <Xlib.display.Window 0x0220014d>, detail = 1, window = <Xlib.display.Window 0x0000008e>, same_screen = 1, time = 56571724, root_y = 18, root_x = 678, root = <Xlib.display.Window 0x0000008e>, event_x = 678, sequence_number = 9)"
       ]
      },
      {
       "output_type": "stream",
       "stream": "stdout",
       "text": [
        "\n",
        "Event:\n",
        "Xlib.protocol.event.ButtonRelease(event_y = 18, state = 256, type = 5, child = <Xlib.display.Window 0x0220014d>, detail = 1, window = <Xlib.display.Window 0x0000008e>, same_screen = 1, time = 56571754, root_y = 18, root_x = 678, root = <Xlib.display.Window 0x0000008e>, event_x = 678, sequence_number = 9)\n",
        "Event:\n",
        "Xlib.protocol.event.ButtonPress(event_y = 18, state = 0, type = 4, child = <Xlib.display.Window 0x0220014d>, detail = 1, window = <Xlib.display.Window 0x0000008e>, same_screen = 1, time = 56571853, root_y = 18, root_x = 678, root = <Xlib.display.Window 0x0000008e>, event_x = 678, sequence_number = 9)"
       ]
      },
      {
       "output_type": "stream",
       "stream": "stdout",
       "text": [
        "\n",
        "Event:\n",
        "Xlib.protocol.event.ButtonRelease(event_y = 18, state = 256, type = 5, child = <Xlib.display.Window 0x0220014d>, detail = 1, window = <Xlib.display.Window 0x0000008e>, same_screen = 1, time = 56571904, root_y = 18, root_x = 678, root = <Xlib.display.Window 0x0000008e>, event_x = 678, sequence_number = 9)\n",
        "Event:\n",
        "Xlib.protocol.event.ButtonPress(event_y = 18, state = 0, type = 4, child = <Xlib.display.Window 0x0220014d>, detail = 1, window = <Xlib.display.Window 0x0000008e>, same_screen = 1, time = 56572001, root_y = 18, root_x = 678, root = <Xlib.display.Window 0x0000008e>, event_x = 678, sequence_number = 9)"
       ]
      },
      {
       "output_type": "stream",
       "stream": "stdout",
       "text": [
        "\n",
        "Event:\n",
        "Xlib.protocol.event.ButtonRelease(event_y = 18, state = 256, type = 5, child = <Xlib.display.Window 0x0220014d>, detail = 1, window = <Xlib.display.Window 0x0000008e>, same_screen = 1, time = 56572011, root_y = 18, root_x = 678, root = <Xlib.display.Window 0x0000008e>, event_x = 678, sequence_number = 9)\n",
        "Event:\n",
        "Xlib.protocol.event.ButtonPress(event_y = 332, state = 0, type = 4, child = <Xlib.display.Window 0x022000a2>, detail = 1, window = <Xlib.display.Window 0x0000008e>, same_screen = 1, time = 56572703, root_y = 332, root_x = 1205, root = <Xlib.display.Window 0x0000008e>, event_x = 1205, sequence_number = 9)"
       ]
      },
      {
       "output_type": "stream",
       "stream": "stdout",
       "text": [
        "\n",
        "Event:\n",
        "Xlib.protocol.event.ButtonRelease(event_y = 332, state = 256, type = 5, child = <Xlib.display.Window 0x022000a2>, detail = 1, window = <Xlib.display.Window 0x0000008e>, same_screen = 1, time = 56572745, root_y = 332, root_x = 1205, root = <Xlib.display.Window 0x0000008e>, event_x = 1205, sequence_number = 9)\n",
        "Event:\n",
        "Xlib.protocol.event.ButtonPress(event_y = 425, state = 0, type = 4, child = <Xlib.display.Window 0x022000a2>, detail = 1, window = <Xlib.display.Window 0x0000008e>, same_screen = 1, time = 56573044, root_y = 425, root_x = 1153, root = <Xlib.display.Window 0x0000008e>, event_x = 1153, sequence_number = 9)"
       ]
      },
      {
       "output_type": "stream",
       "stream": "stdout",
       "text": [
        "\n",
        "Event:\n",
        "Xlib.protocol.event.ButtonRelease(event_y = 425, state = 256, type = 5, child = <Xlib.display.Window 0x022000a2>, detail = 1, window = <Xlib.display.Window 0x0000008e>, same_screen = 1, time = 56573102, root_y = 425, root_x = 1153, root = <Xlib.display.Window 0x0000008e>, event_x = 1153, sequence_number = 9)"
       ]
      },
      {
       "output_type": "stream",
       "stream": "stdout",
       "text": [
        "\n",
        "Event:\n",
        "Xlib.protocol.event.ButtonPress(event_y = 425, state = 0, type = 4, child = <Xlib.display.Window 0x022000a2>, detail = 1, window = <Xlib.display.Window 0x0000008e>, same_screen = 1, time = 56573174, root_y = 425, root_x = 1153, root = <Xlib.display.Window 0x0000008e>, event_x = 1153, sequence_number = 9)"
       ]
      },
      {
       "output_type": "stream",
       "stream": "stdout",
       "text": [
        "\n",
        "Event:\n",
        "Xlib.protocol.event.ButtonRelease(event_y = 425, state = 256, type = 5, child = <Xlib.display.Window 0x022000a2>, detail = 1, window = <Xlib.display.Window 0x0000008e>, same_screen = 1, time = 56573231, root_y = 425, root_x = 1153, root = <Xlib.display.Window 0x0000008e>, event_x = 1153, sequence_number = 9)"
       ]
      },
      {
       "output_type": "stream",
       "stream": "stdout",
       "text": [
        "\n",
        "Event:\n",
        "Xlib.protocol.event.ButtonPress(event_y = 585, state = 0, type = 4, child = <Xlib.display.Window 0x022000a2>, detail = 1, window = <Xlib.display.Window 0x0000008e>, same_screen = 1, time = 56573518, root_y = 585, root_x = 1143, root = <Xlib.display.Window 0x0000008e>, event_x = 1143, sequence_number = 9)"
       ]
      },
      {
       "output_type": "stream",
       "stream": "stdout",
       "text": [
        "\n",
        "Event:\n",
        "Xlib.protocol.event.ButtonRelease(event_y = 585, state = 256, type = 5, child = <Xlib.display.Window 0x022000a2>, detail = 1, window = <Xlib.display.Window 0x0000008e>, same_screen = 1, time = 56573551, root_y = 585, root_x = 1143, root = <Xlib.display.Window 0x0000008e>, event_x = 1143, sequence_number = 9)\n",
        "Event:\n",
        "Xlib.protocol.event.ButtonPress(event_y = 584, state = 0, type = 4, child = <Xlib.display.Window 0x022000a2>, detail = 1, window = <Xlib.display.Window 0x0000008e>, same_screen = 1, time = 56573670, root_y = 584, root_x = 1139, root = <Xlib.display.Window 0x0000008e>, event_x = 1139, sequence_number = 9)"
       ]
      },
      {
       "output_type": "stream",
       "stream": "stdout",
       "text": [
        "\n",
        "Event:\n",
        "Xlib.protocol.event.ButtonRelease(event_y = 582, state = 256, type = 5, child = <Xlib.display.Window 0x022000a2>, detail = 1, window = <Xlib.display.Window 0x0000008e>, same_screen = 1, time = 56573723, root_y = 582, root_x = 1134, root = <Xlib.display.Window 0x0000008e>, event_x = 1134, sequence_number = 9)"
       ]
      },
      {
       "output_type": "stream",
       "stream": "stdout",
       "text": [
        "\n",
        "Event:\n",
        "Xlib.protocol.event.ButtonPress(event_y = 524, state = 0, type = 4, child = <Xlib.display.Window 0x022000a2>, detail = 1, window = <Xlib.display.Window 0x0000008e>, same_screen = 1, time = 56573952, root_y = 524, root_x = 982, root = <Xlib.display.Window 0x0000008e>, event_x = 982, sequence_number = 9)"
       ]
      },
      {
       "output_type": "stream",
       "stream": "stdout",
       "text": [
        "\n",
        "Event:\n",
        "Xlib.protocol.event.ButtonRelease(event_y = 602, state = 256, type = 5, child = <Xlib.display.Window 0x022000a2>, detail = 1, window = <Xlib.display.Window 0x0000008e>, same_screen = 1, time = 56574282, root_y = 602, root_x = 1200, root = <Xlib.display.Window 0x0000008e>, event_x = 1200, sequence_number = 9)"
       ]
      },
      {
       "output_type": "stream",
       "stream": "stdout",
       "text": [
        "\n",
        "Event:\n",
        "Xlib.protocol.event.ButtonPress(event_y = 325, state = 0, type = 4, child = <Xlib.display.Window 0x022000a2>, detail = 1, window = <Xlib.display.Window 0x0000008e>, same_screen = 1, time = 56574552, root_y = 325, root_x = 1125, root = <Xlib.display.Window 0x0000008e>, event_x = 1125, sequence_number = 9)"
       ]
      },
      {
       "output_type": "stream",
       "stream": "stdout",
       "text": [
        "\n",
        "Event:\n",
        "Xlib.protocol.event.ButtonRelease(event_y = 325, state = 256, type = 5, child = <Xlib.display.Window 0x022000a2>, detail = 1, window = <Xlib.display.Window 0x0000008e>, same_screen = 1, time = 56574595, root_y = 325, root_x = 1125, root = <Xlib.display.Window 0x0000008e>, event_x = 1125, sequence_number = 9)\n",
        "Event:\n"
       ]
      },
      {
       "ename": "KeyboardInterrupt",
       "evalue": "",
       "output_type": "pyerr",
       "traceback": [
        "\u001b[1;31m---------------------------------------------------------------------------\u001b[0m\n\u001b[1;31mKeyboardInterrupt\u001b[0m                         Traceback (most recent call last)",
        "\u001b[1;32m<ipython-input-1-cbe4fd4a6e53>\u001b[0m in \u001b[0;36m<module>\u001b[1;34m()\u001b[0m\n\u001b[0;32m      9\u001b[0m \u001b[1;32mwhile\u001b[0m \u001b[0mTrue\u001b[0m\u001b[1;33m:\u001b[0m\u001b[1;33m\u001b[0m\u001b[0m\n\u001b[0;32m     10\u001b[0m     \u001b[1;32mprint\u001b[0m \u001b[1;34m\"Event:\"\u001b[0m\u001b[1;33m\u001b[0m\u001b[0m\n\u001b[1;32m---> 11\u001b[1;33m     \u001b[1;32mprint\u001b[0m \u001b[0mdisplay\u001b[0m\u001b[1;33m.\u001b[0m\u001b[0mnext_event\u001b[0m\u001b[1;33m(\u001b[0m\u001b[1;33m)\u001b[0m\u001b[1;33m\u001b[0m\u001b[0m\n\u001b[0m",
        "\u001b[1;32m/usr/lib/pymodules/python2.7/Xlib/display.pyc\u001b[0m in \u001b[0;36mnext_event\u001b[1;34m(self)\u001b[0m\n\u001b[0;32m    174\u001b[0m         \"\"\"Return the next event. If there are no events queued, it will\n\u001b[0;32m    175\u001b[0m         block until the next event is fetched from the server.\"\"\"\n\u001b[1;32m--> 176\u001b[1;33m         \u001b[1;32mreturn\u001b[0m \u001b[0mself\u001b[0m\u001b[1;33m.\u001b[0m\u001b[0mdisplay\u001b[0m\u001b[1;33m.\u001b[0m\u001b[0mnext_event\u001b[0m\u001b[1;33m(\u001b[0m\u001b[1;33m)\u001b[0m\u001b[1;33m\u001b[0m\u001b[0m\n\u001b[0m\u001b[0;32m    177\u001b[0m \u001b[1;33m\u001b[0m\u001b[0m\n\u001b[0;32m    178\u001b[0m     \u001b[1;32mdef\u001b[0m \u001b[0mpending_events\u001b[0m\u001b[1;33m(\u001b[0m\u001b[0mself\u001b[0m\u001b[1;33m)\u001b[0m\u001b[1;33m:\u001b[0m\u001b[1;33m\u001b[0m\u001b[0m\n",
        "\u001b[1;32m/usr/lib/pymodules/python2.7/Xlib/protocol/display.pyc\u001b[0m in \u001b[0;36mnext_event\u001b[1;34m(self)\u001b[0m\n\u001b[0;32m    169\u001b[0m             \u001b[1;31m# Call send_and_recv, which will return when\u001b[0m\u001b[1;33m\u001b[0m\u001b[1;33m\u001b[0m\u001b[0m\n\u001b[0;32m    170\u001b[0m             \u001b[1;31m# something has occured\u001b[0m\u001b[1;33m\u001b[0m\u001b[1;33m\u001b[0m\u001b[0m\n\u001b[1;32m--> 171\u001b[1;33m             \u001b[0mself\u001b[0m\u001b[1;33m.\u001b[0m\u001b[0msend_and_recv\u001b[0m\u001b[1;33m(\u001b[0m\u001b[0mevent\u001b[0m \u001b[1;33m=\u001b[0m \u001b[1;36m1\u001b[0m\u001b[1;33m)\u001b[0m\u001b[1;33m\u001b[0m\u001b[0m\n\u001b[0m\u001b[0;32m    172\u001b[0m \u001b[1;33m\u001b[0m\u001b[0m\n\u001b[0;32m    173\u001b[0m             \u001b[1;31m# Before looping around, lock the event queue against\u001b[0m\u001b[1;33m\u001b[0m\u001b[1;33m\u001b[0m\u001b[0m\n",
        "\u001b[1;32m/usr/lib/pymodules/python2.7/Xlib/protocol/display.pyc\u001b[0m in \u001b[0;36msend_and_recv\u001b[1;34m(self, flush, event, request, recv)\u001b[0m\n\u001b[0;32m    500\u001b[0m                     \u001b[0mtimeout\u001b[0m \u001b[1;33m=\u001b[0m \u001b[0mNone\u001b[0m\u001b[1;33m\u001b[0m\u001b[0m\n\u001b[0;32m    501\u001b[0m \u001b[1;33m\u001b[0m\u001b[0m\n\u001b[1;32m--> 502\u001b[1;33m                 \u001b[0mrs\u001b[0m\u001b[1;33m,\u001b[0m \u001b[0mws\u001b[0m\u001b[1;33m,\u001b[0m \u001b[0mes\u001b[0m \u001b[1;33m=\u001b[0m \u001b[0mselect\u001b[0m\u001b[1;33m.\u001b[0m\u001b[0mselect\u001b[0m\u001b[1;33m(\u001b[0m\u001b[1;33m[\u001b[0m\u001b[0mself\u001b[0m\u001b[1;33m.\u001b[0m\u001b[0msocket\u001b[0m\u001b[1;33m]\u001b[0m\u001b[1;33m,\u001b[0m \u001b[0mwriteset\u001b[0m\u001b[1;33m,\u001b[0m \u001b[1;33m[\u001b[0m\u001b[1;33m]\u001b[0m\u001b[1;33m,\u001b[0m \u001b[0mtimeout\u001b[0m\u001b[1;33m)\u001b[0m\u001b[1;33m\u001b[0m\u001b[0m\n\u001b[0m\u001b[0;32m    503\u001b[0m \u001b[1;33m\u001b[0m\u001b[0m\n\u001b[0;32m    504\u001b[0m             \u001b[1;31m# Ignore errors caused by a signal recieved while blocking.\u001b[0m\u001b[1;33m\u001b[0m\u001b[1;33m\u001b[0m\u001b[0m\n",
        "\u001b[1;31mKeyboardInterrupt\u001b[0m: "
       ]
      }
     ],
     "prompt_number": 1
    },
    {
     "cell_type": "code",
     "collapsed": false,
     "input": [
      "root.grab"
     ],
     "language": "python",
     "metadata": {},
     "outputs": []
    },
    {
     "cell_type": "code",
     "collapsed": false,
     "input": [
      "import time\n",
      "import datetime"
     ],
     "language": "python",
     "metadata": {},
     "outputs": [],
     "prompt_number": 3
    },
    {
     "cell_type": "code",
     "collapsed": false,
     "input": [
      "filename= 'mouse_' + str(datetime.datetime.now())\n",
      "filename= filename.replace(' ', '_')\n",
      "filename=filename[:25]\n",
      "filename"
     ],
     "language": "python",
     "metadata": {},
     "outputs": [
      {
       "metadata": {},
       "output_type": "pyout",
       "prompt_number": 32,
       "text": [
        "'mouse_2014-10-05_08:02:45'"
       ]
      }
     ],
     "prompt_number": 32
    },
    {
     "cell_type": "code",
     "collapsed": false,
     "input": [
      "outfile = open(filename, 'w')"
     ],
     "language": "python",
     "metadata": {},
     "outputs": [],
     "prompt_number": 33
    },
    {
     "cell_type": "code",
     "collapsed": false,
     "input": [
      "import IPython.display"
     ],
     "language": "python",
     "metadata": {},
     "outputs": [],
     "prompt_number": 36
    },
    {
     "cell_type": "code",
     "collapsed": false,
     "input": [
      "last_flush=0\n",
      "last_x=x\n",
      "last_y=y\n",
      "while True:\n",
      "    IPython.display.clear_output()\n",
      "    time.sleep(.001)\n",
      "    t=time.time()\n",
      "    x,y = mousepos()\n",
      "    if (not last_x == x) and (not last_y == y):\n",
      "        output = \"%r, %r, %r\\n\" % (t, x, y)\n",
      "        outfile.write(output)\n",
      "    if time.time() - last_flush > 5:\n",
      "#         print 'flushing..' + str(time.time())\n",
      "        outfile.flush()\n",
      "        last_flush = time.time()\n",
      "    last_x = x\n",
      "    last_y = y"
     ],
     "language": "python",
     "metadata": {},
     "outputs": [
      {
       "ename": "DisplayConnectionError",
       "evalue": "Can't connect to display \":0\": Maximum number of clients reached",
       "output_type": "pyerr",
       "traceback": [
        "\u001b[1;31m---------------------------------------------------------------------------\u001b[0m\n\u001b[1;31mDisplayConnectionError\u001b[0m                    Traceback (most recent call last)",
        "\u001b[1;32m<ipython-input-37-e841370f0b82>\u001b[0m in \u001b[0;36m<module>\u001b[1;34m()\u001b[0m\n\u001b[0;32m      6\u001b[0m     \u001b[0mtime\u001b[0m\u001b[1;33m.\u001b[0m\u001b[0msleep\u001b[0m\u001b[1;33m(\u001b[0m\u001b[1;36m.001\u001b[0m\u001b[1;33m)\u001b[0m\u001b[1;33m\u001b[0m\u001b[0m\n\u001b[0;32m      7\u001b[0m     \u001b[0mt\u001b[0m\u001b[1;33m=\u001b[0m\u001b[0mtime\u001b[0m\u001b[1;33m.\u001b[0m\u001b[0mtime\u001b[0m\u001b[1;33m(\u001b[0m\u001b[1;33m)\u001b[0m\u001b[1;33m\u001b[0m\u001b[0m\n\u001b[1;32m----> 8\u001b[1;33m     \u001b[0mx\u001b[0m\u001b[1;33m,\u001b[0m\u001b[0my\u001b[0m \u001b[1;33m=\u001b[0m \u001b[0mmousepos\u001b[0m\u001b[1;33m(\u001b[0m\u001b[1;33m)\u001b[0m\u001b[1;33m\u001b[0m\u001b[0m\n\u001b[0m\u001b[0;32m      9\u001b[0m     \u001b[1;32mif\u001b[0m \u001b[1;33m(\u001b[0m\u001b[1;32mnot\u001b[0m \u001b[0mlast_x\u001b[0m \u001b[1;33m==\u001b[0m \u001b[0mx\u001b[0m\u001b[1;33m)\u001b[0m \u001b[1;32mand\u001b[0m \u001b[1;33m(\u001b[0m\u001b[1;32mnot\u001b[0m \u001b[0mlast_y\u001b[0m \u001b[1;33m==\u001b[0m \u001b[0my\u001b[0m\u001b[1;33m)\u001b[0m\u001b[1;33m:\u001b[0m\u001b[1;33m\u001b[0m\u001b[0m\n\u001b[0;32m     10\u001b[0m         \u001b[0moutput\u001b[0m \u001b[1;33m=\u001b[0m \u001b[1;34m\"%r, %r, %r\\n\"\u001b[0m \u001b[1;33m%\u001b[0m \u001b[1;33m(\u001b[0m\u001b[0mt\u001b[0m\u001b[1;33m,\u001b[0m \u001b[0mx\u001b[0m\u001b[1;33m,\u001b[0m \u001b[0my\u001b[0m\u001b[1;33m)\u001b[0m\u001b[1;33m\u001b[0m\u001b[0m\n",
        "\u001b[1;32m<ipython-input-2-59d8103aa899>\u001b[0m in \u001b[0;36mmousepos\u001b[1;34m()\u001b[0m\n\u001b[0;32m      9\u001b[0m \u001b[1;32mdef\u001b[0m \u001b[0mmousepos\u001b[0m\u001b[1;33m(\u001b[0m\u001b[1;33m)\u001b[0m\u001b[1;33m:\u001b[0m\u001b[1;33m\u001b[0m\u001b[0m\n\u001b[0;32m     10\u001b[0m     \u001b[1;34m\"\"\"mousepos() --> (x, y) get the mouse coordinates on the screen (linux, Xlib).\"\"\"\u001b[0m\u001b[1;33m\u001b[0m\u001b[0m\n\u001b[1;32m---> 11\u001b[1;33m     \u001b[0mdata\u001b[0m \u001b[1;33m=\u001b[0m \u001b[0mdisplay\u001b[0m\u001b[1;33m.\u001b[0m\u001b[0mDisplay\u001b[0m\u001b[1;33m(\u001b[0m\u001b[1;33m)\u001b[0m\u001b[1;33m.\u001b[0m\u001b[0mscreen\u001b[0m\u001b[1;33m(\u001b[0m\u001b[1;33m)\u001b[0m\u001b[1;33m.\u001b[0m\u001b[0mroot\u001b[0m\u001b[1;33m.\u001b[0m\u001b[0mquery_pointer\u001b[0m\u001b[1;33m(\u001b[0m\u001b[1;33m)\u001b[0m\u001b[1;33m.\u001b[0m\u001b[0m_data\u001b[0m\u001b[1;33m\u001b[0m\u001b[0m\n\u001b[0m\u001b[0;32m     12\u001b[0m     \u001b[1;32mreturn\u001b[0m \u001b[0mdata\u001b[0m\u001b[1;33m[\u001b[0m\u001b[1;34m\"root_x\"\u001b[0m\u001b[1;33m]\u001b[0m\u001b[1;33m,\u001b[0m \u001b[0mdata\u001b[0m\u001b[1;33m[\u001b[0m\u001b[1;34m\"root_y\"\u001b[0m\u001b[1;33m]\u001b[0m\u001b[1;33m\u001b[0m\u001b[0m\n",
        "\u001b[1;32m/usr/lib/pymodules/python2.7/Xlib/display.pyc\u001b[0m in \u001b[0;36m__init__\u001b[1;34m(self, display)\u001b[0m\n\u001b[0;32m     81\u001b[0m \u001b[1;32mclass\u001b[0m \u001b[0mDisplay\u001b[0m\u001b[1;33m:\u001b[0m\u001b[1;33m\u001b[0m\u001b[0m\n\u001b[0;32m     82\u001b[0m     \u001b[1;32mdef\u001b[0m \u001b[0m__init__\u001b[0m\u001b[1;33m(\u001b[0m\u001b[0mself\u001b[0m\u001b[1;33m,\u001b[0m \u001b[0mdisplay\u001b[0m \u001b[1;33m=\u001b[0m \u001b[0mNone\u001b[0m\u001b[1;33m)\u001b[0m\u001b[1;33m:\u001b[0m\u001b[1;33m\u001b[0m\u001b[0m\n\u001b[1;32m---> 83\u001b[1;33m         \u001b[0mself\u001b[0m\u001b[1;33m.\u001b[0m\u001b[0mdisplay\u001b[0m \u001b[1;33m=\u001b[0m \u001b[0m_BaseDisplay\u001b[0m\u001b[1;33m(\u001b[0m\u001b[0mdisplay\u001b[0m\u001b[1;33m)\u001b[0m\u001b[1;33m\u001b[0m\u001b[0m\n\u001b[0m\u001b[0;32m     84\u001b[0m \u001b[1;33m\u001b[0m\u001b[0m\n\u001b[0;32m     85\u001b[0m         \u001b[1;31m# Create the keymap cache\u001b[0m\u001b[1;33m\u001b[0m\u001b[1;33m\u001b[0m\u001b[0m\n",
        "\u001b[1;32m/usr/lib/pymodules/python2.7/Xlib/display.pyc\u001b[0m in \u001b[0;36m__init__\u001b[1;34m(self, *args, **keys)\u001b[0m\n\u001b[0;32m     63\u001b[0m \u001b[1;33m\u001b[0m\u001b[0m\n\u001b[0;32m     64\u001b[0m     \u001b[1;32mdef\u001b[0m \u001b[0m__init__\u001b[0m\u001b[1;33m(\u001b[0m\u001b[0mself\u001b[0m\u001b[1;33m,\u001b[0m \u001b[1;33m*\u001b[0m\u001b[0margs\u001b[0m\u001b[1;33m,\u001b[0m \u001b[1;33m**\u001b[0m\u001b[0mkeys\u001b[0m\u001b[1;33m)\u001b[0m\u001b[1;33m:\u001b[0m\u001b[1;33m\u001b[0m\u001b[0m\n\u001b[1;32m---> 65\u001b[1;33m         \u001b[0mapply\u001b[0m\u001b[1;33m(\u001b[0m\u001b[0mprotocol\u001b[0m\u001b[1;33m.\u001b[0m\u001b[0mdisplay\u001b[0m\u001b[1;33m.\u001b[0m\u001b[0mDisplay\u001b[0m\u001b[1;33m.\u001b[0m\u001b[0m__init__\u001b[0m\u001b[1;33m,\u001b[0m \u001b[1;33m(\u001b[0m\u001b[0mself\u001b[0m\u001b[1;33m,\u001b[0m \u001b[1;33m)\u001b[0m \u001b[1;33m+\u001b[0m \u001b[0margs\u001b[0m\u001b[1;33m,\u001b[0m \u001b[0mkeys\u001b[0m\u001b[1;33m)\u001b[0m\u001b[1;33m\u001b[0m\u001b[0m\n\u001b[0m\u001b[0;32m     66\u001b[0m         \u001b[0mself\u001b[0m\u001b[1;33m.\u001b[0m\u001b[0m_atom_cache\u001b[0m \u001b[1;33m=\u001b[0m \u001b[1;33m{\u001b[0m\u001b[1;33m}\u001b[0m\u001b[1;33m\u001b[0m\u001b[0m\n\u001b[0;32m     67\u001b[0m \u001b[1;33m\u001b[0m\u001b[0m\n",
        "\u001b[1;32m/usr/lib/pymodules/python2.7/Xlib/protocol/display.pyc\u001b[0m in \u001b[0;36m__init__\u001b[1;34m(self, display)\u001b[0m\n\u001b[0;32m    118\u001b[0m         \u001b[1;31m# Did connection fail?\u001b[0m\u001b[1;33m\u001b[0m\u001b[1;33m\u001b[0m\u001b[0m\n\u001b[0;32m    119\u001b[0m         \u001b[1;32mif\u001b[0m \u001b[0mr\u001b[0m\u001b[1;33m.\u001b[0m\u001b[0mstatus\u001b[0m \u001b[1;33m!=\u001b[0m \u001b[1;36m1\u001b[0m\u001b[1;33m:\u001b[0m\u001b[1;33m\u001b[0m\u001b[0m\n\u001b[1;32m--> 120\u001b[1;33m             \u001b[1;32mraise\u001b[0m \u001b[0merror\u001b[0m\u001b[1;33m.\u001b[0m\u001b[0mDisplayConnectionError\u001b[0m\u001b[1;33m(\u001b[0m\u001b[0mself\u001b[0m\u001b[1;33m.\u001b[0m\u001b[0mdisplay_name\u001b[0m\u001b[1;33m,\u001b[0m \u001b[0mr\u001b[0m\u001b[1;33m.\u001b[0m\u001b[0mreason\u001b[0m\u001b[1;33m)\u001b[0m\u001b[1;33m\u001b[0m\u001b[0m\n\u001b[0m\u001b[0;32m    121\u001b[0m \u001b[1;33m\u001b[0m\u001b[0m\n\u001b[0;32m    122\u001b[0m         \u001b[1;31m# Set up remaining info\u001b[0m\u001b[1;33m\u001b[0m\u001b[1;33m\u001b[0m\u001b[0m\n",
        "\u001b[1;31mDisplayConnectionError\u001b[0m: Can't connect to display \":0\": Maximum number of clients reached"
       ]
      }
     ],
     "prompt_number": 37
    },
    {
     "cell_type": "code",
     "collapsed": false,
     "input": [],
     "language": "python",
     "metadata": {},
     "outputs": []
    }
   ],
   "metadata": {}
  }
 ]
}