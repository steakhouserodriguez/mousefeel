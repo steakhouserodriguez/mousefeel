{
 "metadata": {
  "name": "",
  "signature": "sha256:2e10b5455c1cb6c22317173abd459616b9f35e95553b63a8572b357d9f9ab955"
 },
 "nbformat": 3,
 "nbformat_minor": 0,
 "worksheets": [
  {
   "cells": [
    {
     "cell_type": "markdown",
     "metadata": {},
     "source": [
      "* electromagnetic force feedback haptic mouse\n",
      "* tell a story using force feedback\n",
      "    * something impossible without feedback/force sensing\n"
     ]
    }
   ],
   "metadata": {}
  }
 ]
}