{
 "metadata": {
  "name": "",
  "signature": "sha256:b456eaa505bf801e68e7ae302ce6961c0efda8fffdea4ed8c390636487eb1241"
 },
 "nbformat": 3,
 "nbformat_minor": 0,
 "worksheets": []
}