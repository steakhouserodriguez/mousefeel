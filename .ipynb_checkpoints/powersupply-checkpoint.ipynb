{
 "metadata": {
  "name": "",
  "signature": "sha256:a090100196a0b033c80e27aaea3deb4fba57238fc9e2b5eb146568812284e848"
 },
 "nbformat": 3,
 "nbformat_minor": 0,
 "worksheets": [
  {
   "cells": [
    {
     "cell_type": "heading",
     "level": 1,
     "metadata": {},
     "source": [
      "Python API for the Keysight E3631a"
     ]
    },
    {
     "cell_type": "markdown",
     "metadata": {},
     "source": [
      "* Keysight product page\n",
      "    * http://www.keysight.com/en/pd-836433-pn-E3631A/80w-triple-output-power-supply-6v-5a-25v-1a?cc=US&lc=eng\n",
      "* User's Guide\n",
      "    * http://cp.literature.agilent.com/litweb/pdf/E3631-90002.pdf"
     ]
    },
    {
     "cell_type": "code",
     "collapsed": false,
     "input": [
      "import serial\n",
      "import time\n",
      "import sys"
     ],
     "language": "python",
     "metadata": {},
     "outputs": [],
     "prompt_number": 2
    },
    {
     "cell_type": "code",
     "collapsed": false,
     "input": [
      "class PSU:\n",
      "    def __init__(self, dev=\"/dev/ttyUSB0\"):\n",
      "        self.s=serial.Serial(dev, 9600)\n",
      "        \n",
      "    def enable_remote(self):\n",
      "        self.s.write('SYST:REM\\n')\n",
      "        \n",
      "    def set_25v(self, v, a):\n",
      "        self.s.write('APPLY P25V, {0}, {1}\\n'.format(v,a))\n",
      "        \n",
      "    def output_on(self):\n",
      "        self.s.write('OUTPUT:STATE ON\\n')\n",
      "        \n",
      "    def output_off(self):\n",
      "        self.s.write('OUTPUT:STATE OFF\\n')\n",
      "        \n",
      "    def clear_error(self):\n",
      "        self.s.write('*CLS\\n')\n",
      "        \n",
      "    def reset(self):\n",
      "        self.s.write('*RST\\n')"
     ],
     "language": "python",
     "metadata": {},
     "outputs": [],
     "prompt_number": 13
    },
    {
     "cell_type": "code",
     "collapsed": false,
     "input": [
      "psu = PSU()"
     ],
     "language": "python",
     "metadata": {},
     "outputs": [],
     "prompt_number": 15
    },
    {
     "cell_type": "code",
     "collapsed": false,
     "input": [
      "psu.enable_remote()"
     ],
     "language": "python",
     "metadata": {},
     "outputs": []
    },
    {
     "cell_type": "code",
     "collapsed": false,
     "input": [
      "psu.set_25v(20, 1)"
     ],
     "language": "python",
     "metadata": {},
     "outputs": [],
     "prompt_number": 17
    },
    {
     "cell_type": "code",
     "collapsed": false,
     "input": [
      "psu.output_on()"
     ],
     "language": "python",
     "metadata": {},
     "outputs": []
    },
    {
     "cell_type": "code",
     "collapsed": false,
     "input": [
      "psu.output_off()"
     ],
     "language": "python",
     "metadata": {},
     "outputs": [],
     "prompt_number": 12
    },
    {
     "cell_type": "code",
     "collapsed": false,
     "input": [
      "psu.reset()"
     ],
     "language": "python",
     "metadata": {},
     "outputs": [],
     "prompt_number": 16
    }
   ],
   "metadata": {}
  }
 ]
}