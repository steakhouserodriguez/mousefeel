{
 "metadata": {
  "name": "",
  "signature": "sha256:774ac29d0d282e2ab976a177f34386e5d7d56eac9b3b0ff5872eb4c4809b13e9"
 },
 "nbformat": 3,
 "nbformat_minor": 0,
 "worksheets": [
  {
   "cells": [
    {
     "cell_type": "code",
     "collapsed": false,
     "input": [
      "# Cross-notebook include shim\n",
      "with open(\"nbinclude.ipynb\") as nbinclude_f: # don't rename nbinclude_f\n",
      "    import IPython.nbformat.current\n",
      "    get_ipython().run_cell(IPython.nbformat.current.read(nbinclude_f, 'json').worksheets[0].cells[0].input)"
     ],
     "language": "python",
     "metadata": {},
     "outputs": [],
     "prompt_number": 2
    },
    {
     "cell_type": "markdown",
     "metadata": {},
     "source": [
      "* https://www.daniweb.com/software-development/python/code/230886/get-the-mouse-position-on-the-screen-on-linux\n",
      "    * requires python-xlib: `sudo pip install python-xlib`"
     ]
    },
    {
     "cell_type": "code",
     "collapsed": false,
     "input": [
      "# mousepos.py (linux only)\n",
      "\"\"\"module mousepos\n",
      "\"\"\"\n",
      "# uses the package python-xlib\n",
      "# from http://snipplr.com/view/19188/mouseposition-on-linux-via-xlib/\n",
      "\n",
      "from Xlib import display\n",
      "\n",
      "def mousepos():\n",
      "    \"\"\"mousepos() --> (x, y) get the mouse coordinates on the screen (linux, Xlib).\"\"\"\n",
      "    data = display.Display().screen().root.query_pointer()._data\n",
      "    return data[\"root_x\"], data[\"root_y\"]\n",
      "\n",
      "if __name__ == \"__main__\":\n",
      "    print(\"The mouse position on the screen is {0}\".format(mousepos()))"
     ],
     "language": "python",
     "metadata": {},
     "outputs": [
      {
       "output_type": "stream",
       "stream": "stdout",
       "text": [
        "Xlib.protocol.request.QueryExtension\n",
        "The mouse position on the screen is (1005, 278)\n"
       ]
      }
     ],
     "prompt_number": 3
    },
    {
     "cell_type": "code",
     "collapsed": false,
     "input": [
      "import gtk\n",
      "from matplotlib import pyplot as plt\n",
      "import numpy as np\n",
      "import sys\n",
      "import IPython.display\n",
      "import IPython\n",
      "import time\n",
      "import math\n",
      "from grizzly import *\n",
      "import time"
     ],
     "language": "python",
     "metadata": {},
     "outputs": [],
     "prompt_number": 4
    },
    {
     "cell_type": "code",
     "collapsed": false,
     "input": [
      "%matplotlib inline"
     ],
     "language": "python",
     "metadata": {},
     "outputs": [],
     "prompt_number": 5
    },
    {
     "cell_type": "code",
     "collapsed": false,
     "input": [
      "2200/500"
     ],
     "language": "python",
     "metadata": {},
     "outputs": [
      {
       "metadata": {},
       "output_type": "pyout",
       "prompt_number": 7,
       "text": [
        "4"
       ]
      }
     ],
     "prompt_number": 7
    },
    {
     "cell_type": "code",
     "collapsed": false,
     "input": [
      "while True:\n",
      "    IPython.display.clear_output()\n",
      "    print mousepos()\n",
      "    sys.stdout.flush()\n",
      "    time.sleep(.01)"
     ],
     "language": "python",
     "metadata": {},
     "outputs": [
      {
       "output_type": "stream",
       "stream": "stdout",
       "text": [
        "Xlib.protocol.request.QueryExtension\n",
        "(1039, 454)\n"
       ]
      },
      {
       "ename": "KeyboardInterrupt",
       "evalue": "",
       "output_type": "pyerr",
       "traceback": [
        "\u001b[1;31m---------------------------------------------------------------------------\u001b[0m\n\u001b[1;31mKeyboardInterrupt\u001b[0m                         Traceback (most recent call last)",
        "\u001b[1;32m<ipython-input-6-04057774ccdb>\u001b[0m in \u001b[0;36m<module>\u001b[1;34m()\u001b[0m\n\u001b[0;32m      3\u001b[0m     \u001b[1;32mprint\u001b[0m \u001b[0mmousepos\u001b[0m\u001b[1;33m(\u001b[0m\u001b[1;33m)\u001b[0m\u001b[1;33m\u001b[0m\u001b[0m\n\u001b[0;32m      4\u001b[0m     \u001b[0msys\u001b[0m\u001b[1;33m.\u001b[0m\u001b[0mstdout\u001b[0m\u001b[1;33m.\u001b[0m\u001b[0mflush\u001b[0m\u001b[1;33m(\u001b[0m\u001b[1;33m)\u001b[0m\u001b[1;33m\u001b[0m\u001b[0m\n\u001b[1;32m----> 5\u001b[1;33m     \u001b[0mtime\u001b[0m\u001b[1;33m.\u001b[0m\u001b[0msleep\u001b[0m\u001b[1;33m(\u001b[0m\u001b[1;36m.01\u001b[0m\u001b[1;33m)\u001b[0m\u001b[1;33m\u001b[0m\u001b[0m\n\u001b[0m",
        "\u001b[1;31mKeyboardInterrupt\u001b[0m: "
       ]
      }
     ],
     "prompt_number": 6
    },
    {
     "cell_type": "code",
     "collapsed": false,
     "input": [
      "g = Grizzly()\n",
      "g.set_mode(ControlMode.NO_PID, DriveMode.DRIVE_BRAKE)\n",
      "g.limit_acceleration(142)\n",
      "g.limit_current(10)"
     ],
     "language": "python",
     "metadata": {},
     "outputs": [],
     "prompt_number": 7
    },
    {
     "cell_type": "code",
     "collapsed": false,
     "input": [
      "g.set_target(100)"
     ],
     "language": "python",
     "metadata": {},
     "outputs": [],
     "prompt_number": 20
    },
    {
     "cell_type": "code",
     "collapsed": false,
     "input": [
      "g.set_target(0)"
     ],
     "language": "python",
     "metadata": {},
     "outputs": [],
     "prompt_number": 30
    },
    {
     "cell_type": "code",
     "collapsed": false,
     "input": [
      "theta_v = math.atan2(100, 2)"
     ],
     "language": "python",
     "metadata": {},
     "outputs": [],
     "prompt_number": 36
    },
    {
     "cell_type": "code",
     "collapsed": false,
     "input": [
      "1.0/(theta_v - math.pi+.00001)"
     ],
     "language": "python",
     "metadata": {},
     "outputs": []
    },
    {
     "cell_type": "code",
     "collapsed": false,
     "input": [
      "last_x = 0\n",
      "last_y = 0\n",
      "on=True\n",
      "while True:\n",
      "    IPython.display.clear_output()\n",
      "    \n",
      "    x, y = mousepos()\n",
      "    dx = (x-last_x)*.1 + dx*.9\n",
      "    dy = (y-last_y)*.1 + dy*.9\n",
      "    last_x = x\n",
      "    last_y = y\n",
      "    \n",
      "    mag_v = math.sqrt(dx**2 + dy**2)\n",
      "    theta_v = math.atan2(dy, dx)\n",
      "    throttle=mag_v/ abs(theta_v - math.pi/2+.0001)\n",
      "    print throttle\n",
      "    sys.stdout.flush()\n",
      "    g.set_target(throttle if on else 0)\n",
      "    on = not on\n",
      "    \n",
      "#     g.set_target(mag_v/ abs(theta_v - math.pi+.0001))\n",
      "#     print dx, dy\n",
      "#     sys.stdout.flush()\n",
      "    time.sleep(.00125)"
     ],
     "language": "python",
     "metadata": {},
     "outputs": [
      {
       "output_type": "stream",
       "stream": "stdout",
       "text": [
        "Xlib.protocol.request.QueryExtension\n"
       ]
      },
      {
       "ename": "KeyboardInterrupt",
       "evalue": "",
       "output_type": "pyerr",
       "traceback": [
        "\u001b[1;31m---------------------------------------------------------------------------\u001b[0m\n\u001b[1;31mKeyboardInterrupt\u001b[0m                         Traceback (most recent call last)",
        "\u001b[1;32m<ipython-input-70-0a6f53b7cc14>\u001b[0m in \u001b[0;36m<module>\u001b[1;34m()\u001b[0m\n\u001b[0;32m      5\u001b[0m     \u001b[0mIPython\u001b[0m\u001b[1;33m.\u001b[0m\u001b[0mdisplay\u001b[0m\u001b[1;33m.\u001b[0m\u001b[0mclear_output\u001b[0m\u001b[1;33m(\u001b[0m\u001b[1;33m)\u001b[0m\u001b[1;33m\u001b[0m\u001b[0m\n\u001b[0;32m      6\u001b[0m \u001b[1;33m\u001b[0m\u001b[0m\n\u001b[1;32m----> 7\u001b[1;33m     \u001b[0mx\u001b[0m\u001b[1;33m,\u001b[0m \u001b[0my\u001b[0m \u001b[1;33m=\u001b[0m \u001b[0mmousepos\u001b[0m\u001b[1;33m(\u001b[0m\u001b[1;33m)\u001b[0m\u001b[1;33m\u001b[0m\u001b[0m\n\u001b[0m\u001b[0;32m      8\u001b[0m     \u001b[0mdx\u001b[0m \u001b[1;33m=\u001b[0m \u001b[1;33m(\u001b[0m\u001b[0mx\u001b[0m\u001b[1;33m-\u001b[0m\u001b[0mlast_x\u001b[0m\u001b[1;33m)\u001b[0m\u001b[1;33m*\u001b[0m\u001b[1;36m.1\u001b[0m \u001b[1;33m+\u001b[0m \u001b[0mdx\u001b[0m\u001b[1;33m*\u001b[0m\u001b[1;36m.9\u001b[0m\u001b[1;33m\u001b[0m\u001b[0m\n\u001b[0;32m      9\u001b[0m     \u001b[0mdy\u001b[0m \u001b[1;33m=\u001b[0m \u001b[1;33m(\u001b[0m\u001b[0my\u001b[0m\u001b[1;33m-\u001b[0m\u001b[0mlast_y\u001b[0m\u001b[1;33m)\u001b[0m\u001b[1;33m*\u001b[0m\u001b[1;36m.1\u001b[0m \u001b[1;33m+\u001b[0m \u001b[0mdy\u001b[0m\u001b[1;33m*\u001b[0m\u001b[1;36m.9\u001b[0m\u001b[1;33m\u001b[0m\u001b[0m\n",
        "\u001b[1;32m<ipython-input-2-16326309e340>\u001b[0m in \u001b[0;36mmousepos\u001b[1;34m()\u001b[0m\n\u001b[0;32m      9\u001b[0m \u001b[1;32mdef\u001b[0m \u001b[0mmousepos\u001b[0m\u001b[1;33m(\u001b[0m\u001b[1;33m)\u001b[0m\u001b[1;33m:\u001b[0m\u001b[1;33m\u001b[0m\u001b[0m\n\u001b[0;32m     10\u001b[0m     \u001b[1;34m\"\"\"mousepos() --> (x, y) get the mouse coordinates on the screen (linux, Xlib).\"\"\"\u001b[0m\u001b[1;33m\u001b[0m\u001b[0m\n\u001b[1;32m---> 11\u001b[1;33m     \u001b[0mdata\u001b[0m \u001b[1;33m=\u001b[0m \u001b[0mdisplay\u001b[0m\u001b[1;33m.\u001b[0m\u001b[0mDisplay\u001b[0m\u001b[1;33m(\u001b[0m\u001b[1;33m)\u001b[0m\u001b[1;33m.\u001b[0m\u001b[0mscreen\u001b[0m\u001b[1;33m(\u001b[0m\u001b[1;33m)\u001b[0m\u001b[1;33m.\u001b[0m\u001b[0mroot\u001b[0m\u001b[1;33m.\u001b[0m\u001b[0mquery_pointer\u001b[0m\u001b[1;33m(\u001b[0m\u001b[1;33m)\u001b[0m\u001b[1;33m.\u001b[0m\u001b[0m_data\u001b[0m\u001b[1;33m\u001b[0m\u001b[0m\n\u001b[0m\u001b[0;32m     12\u001b[0m     \u001b[1;32mreturn\u001b[0m \u001b[0mdata\u001b[0m\u001b[1;33m[\u001b[0m\u001b[1;34m\"root_x\"\u001b[0m\u001b[1;33m]\u001b[0m\u001b[1;33m,\u001b[0m \u001b[0mdata\u001b[0m\u001b[1;33m[\u001b[0m\u001b[1;34m\"root_y\"\u001b[0m\u001b[1;33m]\u001b[0m\u001b[1;33m\u001b[0m\u001b[0m\n\u001b[0;32m     13\u001b[0m \u001b[1;33m\u001b[0m\u001b[0m\n",
        "\u001b[1;32m/usr/lib/pymodules/python2.7/Xlib/display.pyc\u001b[0m in \u001b[0;36m__init__\u001b[1;34m(self, display)\u001b[0m\n\u001b[0;32m    124\u001b[0m             self.display.resource_classes[type] = new.classobj(origcls.__name__,\n\u001b[0;32m    125\u001b[0m                                                                \u001b[1;33m(\u001b[0m\u001b[0morigcls\u001b[0m\u001b[1;33m,\u001b[0m\u001b[1;33m)\u001b[0m\u001b[1;33m,\u001b[0m\u001b[1;33m\u001b[0m\u001b[0m\n\u001b[1;32m--> 126\u001b[1;33m                                                                dict)\n\u001b[0m\u001b[0;32m    127\u001b[0m \u001b[1;33m\u001b[0m\u001b[0m\n\u001b[0;32m    128\u001b[0m         \u001b[1;31m# Problem: we have already created some objects without the\u001b[0m\u001b[1;33m\u001b[0m\u001b[1;33m\u001b[0m\u001b[0m\n",
        "\u001b[1;31mKeyboardInterrupt\u001b[0m: "
       ]
      }
     ],
     "prompt_number": 70
    },
    {
     "cell_type": "code",
     "collapsed": false,
     "input": [],
     "language": "python",
     "metadata": {},
     "outputs": []
    },
    {
     "cell_type": "code",
     "collapsed": false,
     "input": [
      "throttles=np.zeros([100,2])"
     ],
     "language": "python",
     "metadata": {},
     "outputs": [],
     "prompt_number": 73
    },
    {
     "cell_type": "code",
     "collapsed": false,
     "input": [
      "xrange(throttles.shape[0])"
     ],
     "language": "python",
     "metadata": {},
     "outputs": [
      {
       "metadata": {},
       "output_type": "pyout",
       "prompt_number": 28,
       "text": [
        "xrange(1000)"
       ]
      }
     ],
     "prompt_number": 28
    },
    {
     "cell_type": "code",
     "collapsed": false,
     "input": [
      "def clamp(val, minval, maxval): return min(maxval, max(val, minval))"
     ],
     "language": "python",
     "metadata": {},
     "outputs": [],
     "prompt_number": 60
    },
    {
     "cell_type": "code",
     "collapsed": false,
     "input": [
      "clamp(-230, -100, 100)"
     ],
     "language": "python",
     "metadata": {},
     "outputs": [
      {
       "metadata": {},
       "output_type": "pyout",
       "prompt_number": 63,
       "text": [
        "-100"
       ]
      }
     ],
     "prompt_number": 63
    },
    {
     "cell_type": "code",
     "collapsed": false,
     "input": [],
     "language": "python",
     "metadata": {},
     "outputs": []
    },
    {
     "cell_type": "code",
     "collapsed": false,
     "input": [
      "last_x = 0\n",
      "last_y = 0\n",
      "dx=0\n",
      "dy=0\n",
      "last_time=time.time()\n",
      "t0=last_time\n",
      "PRINT=True\n",
      "on=True\n",
      "for i in xrange(throttles.shape[0]):\n",
      "# while True:\n",
      "#     if PRINT:\n",
      "    IPython.display.clear_output()\n",
      "    \n",
      "    x, y = mousepos()\n",
      "    t = time.time()\n",
      "    dt = t - last_time\n",
      "    dx = ((x-last_x)/dt)*1. + dx*0\n",
      "    dy = ((y-last_y)/dt)*1. + dy*0.\n",
      "\n",
      "    mag_v = math.sqrt(dx**2 + dy**2)\n",
      "    theta_v = math.atan2(dy, dx)\n",
      "    if abs(theta_v - math.pi/2) < .05:\n",
      "        throttle=100\n",
      "    else:\n",
      "        throttle = 0\n",
      "#     throttle= .005 * mag_v/ abs(theta_v - math.pi/2+.001)\n",
      "#     throttle=clamp(throttle, -100, 100)\n",
      "    throttles[i][0]=t-t0\n",
      "    throttles[i][1]=throttle\n",
      "    \n",
      "    g.set_target(throttle)\n",
      "#     g.set_target(throttle if on else 0)\n",
      "    on = not on\n",
      "    \n",
      "    last_x = x\n",
      "    last_y = y\n",
      "    last_time = t\n",
      "    \n",
      "    if PRINT:\n",
      "        print theta_v\n",
      "        print throttle\n",
      "        sys.stdout.flush()\n",
      "    time.sleep(.001)"
     ],
     "language": "python",
     "metadata": {},
     "outputs": [
      {
       "output_type": "stream",
       "stream": "stdout",
       "text": [
        "Xlib.protocol.request.QueryExtension\n",
        "0.0\n",
        "0\n"
       ]
      }
     ],
     "prompt_number": 85
    },
    {
     "cell_type": "code",
     "collapsed": false,
     "input": [
      "g.set_target(0)"
     ],
     "language": "python",
     "metadata": {},
     "outputs": [],
     "prompt_number": 81
    },
    {
     "cell_type": "code",
     "collapsed": false,
     "input": [
      "plt.plot(throttles.T[0], throttles.T[1])"
     ],
     "language": "python",
     "metadata": {},
     "outputs": [
      {
       "metadata": {},
       "output_type": "pyout",
       "prompt_number": 86,
       "text": [
        "[<matplotlib.lines.Line2D at 0xc434990>]"
       ]
      },
      {
       "metadata": {},
       "output_type": "display_data",
       "png": "[encoded data removed]",
       "text": [
        "<matplotlib.figure.Figure at 0xb3854d0>"
       ]
      }
     ],
     "prompt_number": 86
    },
    {
     "cell_type": "code",
     "collapsed": false,
     "input": [
      "throttles"
     ],
     "language": "python",
     "metadata": {},
     "outputs": [
      {
       "metadata": {},
       "output_type": "pyout",
       "prompt_number": 87,
       "text": [
        "array([[  4.42609787e-02,   0.00000000e+00],\n",
        "       [  9.49280262e-02,   0.00000000e+00],\n",
        "       [  1.42064095e-01,   0.00000000e+00],\n",
        "       [  2.05465078e-01,   0.00000000e+00],\n",
        "       [  2.48501062e-01,   0.00000000e+00],\n",
        "       [  2.94852972e-01,   0.00000000e+00],\n",
        "       [  3.41367006e-01,   0.00000000e+00],\n",
        "       [  4.01299000e-01,   0.00000000e+00],\n",
        "       [  4.48280096e-01,   0.00000000e+00],\n",
        "       [  4.93371964e-01,   0.00000000e+00],\n",
        "       [  5.44427156e-01,   0.00000000e+00],\n",
        "       [  6.08379126e-01,   0.00000000e+00],\n",
        "       [  6.59008980e-01,   0.00000000e+00],\n",
        "       [  7.06593037e-01,   0.00000000e+00],\n",
        "       [  7.55888939e-01,   0.00000000e+00],\n",
        "       [  8.19869041e-01,   0.00000000e+00],\n",
        "       [  8.71423960e-01,   0.00000000e+00],\n",
        "       [  9.19479132e-01,   1.00000000e+02],\n",
        "       [  9.65755939e-01,   0.00000000e+00],\n",
        "       [  1.03155208e+00,   1.00000000e+02],\n",
        "       [  1.08266211e+00,   0.00000000e+00],\n",
        "       [  1.12918997e+00,   1.00000000e+02],\n",
        "       [  1.17553806e+00,   0.00000000e+00],\n",
        "       [  1.23623300e+00,   1.00000000e+02],\n",
        "       [  1.28218102e+00,   0.00000000e+00],\n",
        "       [  1.32713914e+00,   1.00000000e+02],\n",
        "       [  1.37127209e+00,   0.00000000e+00],\n",
        "       [  1.43189716e+00,   1.00000000e+02],\n",
        "       [  1.47625303e+00,   0.00000000e+00],\n",
        "       [  1.53110600e+00,   0.00000000e+00],\n",
        "       [  1.57582712e+00,   0.00000000e+00],\n",
        "       [  1.63728094e+00,   1.00000000e+02],\n",
        "       [  1.69151902e+00,   0.00000000e+00],\n",
        "       [  1.73917794e+00,   1.00000000e+02],\n",
        "       [  1.78369498e+00,   1.00000000e+02],\n",
        "       [  1.84431505e+00,   0.00000000e+00],\n",
        "       [  1.88914013e+00,   1.00000000e+02],\n",
        "       [  1.93664002e+00,   0.00000000e+00],\n",
        "       [  1.98343611e+00,   1.00000000e+02],\n",
        "       [  2.09623194e+00,   1.00000000e+02],\n",
        "       [  2.14302015e+00,   1.00000000e+02],\n",
        "       [  2.18933201e+00,   1.00000000e+02],\n",
        "       [  2.23600793e+00,   1.00000000e+02],\n",
        "       [  2.29550505e+00,   1.00000000e+02],\n",
        "       [  2.34081507e+00,   1.00000000e+02],\n",
        "       [  2.39208603e+00,   1.00000000e+02],\n",
        "       [  2.44059205e+00,   1.00000000e+02],\n",
        "       [  2.50344300e+00,   1.00000000e+02],\n",
        "       [  2.55183315e+00,   1.00000000e+02],\n",
        "       [  2.59679294e+00,   1.00000000e+02],\n",
        "       [  2.64969110e+00,   1.00000000e+02],\n",
        "       [  2.70974398e+00,   1.00000000e+02],\n",
        "       [  2.75885105e+00,   1.00000000e+02],\n",
        "       [  2.80872011e+00,   1.00000000e+02],\n",
        "       [  2.85790801e+00,   1.00000000e+02],\n",
        "       [  2.92379403e+00,   1.00000000e+02],\n",
        "       [  2.96873307e+00,   1.00000000e+02],\n",
        "       [  3.01357102e+00,   1.00000000e+02],\n",
        "       [  3.06418014e+00,   1.00000000e+02],\n",
        "       [  3.12728596e+00,   0.00000000e+00],\n",
        "       [  3.17605996e+00,   1.00000000e+02],\n",
        "       [  3.22033811e+00,   1.00000000e+02],\n",
        "       [  3.27102113e+00,   1.00000000e+02],\n",
        "       [  3.33721900e+00,   1.00000000e+02],\n",
        "       [  3.38080812e+00,   1.00000000e+02],\n",
        "       [  3.43522906e+00,   1.00000000e+02],\n",
        "       [  3.48040414e+00,   1.00000000e+02],\n",
        "       [  3.54158211e+00,   1.00000000e+02],\n",
        "       [  3.58992696e+00,   1.00000000e+02],\n",
        "       [  3.63818812e+00,   1.00000000e+02],\n",
        "       [  3.68487811e+00,   1.00000000e+02],\n",
        "       [  3.75025105e+00,   1.00000000e+02],\n",
        "       [  3.80655408e+00,   0.00000000e+00],\n",
        "       [  3.85864711e+00,   1.00000000e+02],\n",
        "       [  3.90396810e+00,   1.00000000e+02],\n",
        "       [  3.96602106e+00,   1.00000000e+02],\n",
        "       [  4.01362514e+00,   0.00000000e+00],\n",
        "       [  4.06082201e+00,   1.00000000e+02],\n",
        "       [  4.10856605e+00,   0.00000000e+00],\n",
        "       [  4.16955996e+00,   1.00000000e+02],\n",
        "       [  4.21713710e+00,   0.00000000e+00],\n",
        "       [  4.26146698e+00,   1.00000000e+02],\n",
        "       [  4.31074500e+00,   0.00000000e+00],\n",
        "       [  4.37298393e+00,   1.00000000e+02],\n",
        "       [  4.42014313e+00,   0.00000000e+00],\n",
        "       [  4.46701694e+00,   0.00000000e+00],\n",
        "       [  4.51187110e+00,   0.00000000e+00],\n",
        "       [  4.63746715e+00,   0.00000000e+00],\n",
        "       [  4.69704008e+00,   0.00000000e+00],\n",
        "       [  4.74483895e+00,   0.00000000e+00],\n",
        "       [  4.79152513e+00,   1.00000000e+02],\n",
        "       [  4.85312915e+00,   0.00000000e+00],\n",
        "       [  4.90533805e+00,   1.00000000e+02],\n",
        "       [  4.95251513e+00,   1.00000000e+02],\n",
        "       [  5.00246906e+00,   0.00000000e+00],\n",
        "       [  5.07393003e+00,   0.00000000e+00],\n",
        "       [  5.12060905e+00,   0.00000000e+00],\n",
        "       [  5.16743207e+00,   0.00000000e+00],\n",
        "       [  5.21079612e+00,   0.00000000e+00],\n",
        "       [  5.27087402e+00,   0.00000000e+00]])"
       ]
      }
     ],
     "prompt_number": 87
    },
    {
     "cell_type": "code",
     "collapsed": false,
     "input": [],
     "language": "python",
     "metadata": {},
     "outputs": []
    }
   ],
   "metadata": {}
  }
 ]
}