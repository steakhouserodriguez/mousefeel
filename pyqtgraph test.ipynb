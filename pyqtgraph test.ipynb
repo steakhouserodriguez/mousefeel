{
 "metadata": {
  "name": "",
  "signature": "sha256:b0261d9c238a4434734ab35a79281f0cce0b059750b23354387287438a6693e6"
 },
 "nbformat": 3,
 "nbformat_minor": 0,
 "worksheets": [
  {
   "cells": [
    {
     "cell_type": "code",
     "collapsed": false,
     "input": [
      "import pyqtgraph.examples\n",
      "pyqtgraph.examples.run()"
     ],
     "language": "python",
     "metadata": {},
     "outputs": [],
     "prompt_number": 1
    },
    {
     "cell_type": "code",
     "collapsed": false,
     "input": [],
     "language": "python",
     "metadata": {},
     "outputs": []
    }
   ],
   "metadata": {}
  }
 ]
}